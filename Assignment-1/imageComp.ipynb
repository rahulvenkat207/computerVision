{
 "cells": [
  {
   "cell_type": "code",
   "execution_count": 1,
   "metadata": {},
   "outputs": [],
   "source": [
    "## Importing necessary packages\n",
    "import numpy as np\n",
    "import cv2"
   ]
  },
  {
   "cell_type": "code",
   "execution_count": 2,
   "metadata": {},
   "outputs": [],
   "source": [
    "## Function to resize images to the same size\n",
    "def resize_images(img1, img2):\n",
    "    if img1.shape != img2.shape:\n",
    "        img2 = cv2.resize(img2, (img1.shape[1], img1.shape[0]))\n",
    "    return img1, img2"
   ]
  },
  {
   "cell_type": "code",
   "execution_count": 3,
   "metadata": {},
   "outputs": [],
   "source": [
    "## Function to comp and calc the mean diff\n",
    "def compare_channels(channel1, channel2, channel_name):\n",
    "    diff = cv2.absdiff(channel1, channel2,channel_name)\n",
    "    mean_diff = np.mean(diff)\n",
    "    return diff, mean_diff"
   ]
  },
  {
   "cell_type": "code",
   "execution_count": 4,
   "metadata": {},
   "outputs": [],
   "source": [
    "# Loading images\n",
    "img1 = cv2.imread('C:/aravindsir/ass-1/dataset/img1.jpg')\n",
    "img2 = cv2.imread('C:/aravindsir/ass-1/dataset/img2.jpg')"
   ]
  },
  {
   "cell_type": "code",
   "execution_count": 5,
   "metadata": {},
   "outputs": [],
   "source": [
    "img1, img2 = resize_images(img1, img2)"
   ]
  },
  {
   "cell_type": "code",
   "execution_count": 6,
   "metadata": {},
   "outputs": [],
   "source": [
    "# Convertig images to diff color spaces\n",
    "img1_rgb, img2_rgb = img1, img2\n",
    "img1_hsv = cv2.cvtColor(img1, cv2.COLOR_BGR2HSV)\n",
    "img2_hsv = cv2.cvtColor(img2, cv2.COLOR_BGR2HSV)\n",
    "img1_yuv = cv2.cvtColor(img1, cv2.COLOR_BGR2YUV)\n",
    "img2_yuv = cv2.cvtColor(img2, cv2.COLOR_BGR2YUV)"
   ]
  },
  {
   "cell_type": "code",
   "execution_count": 7,
   "metadata": {},
   "outputs": [],
   "source": [
    "# Comparing RGB channels\n",
    "r_diff, r_mean = compare_channels(img1_rgb[:, :, 2], img2_rgb[:, :, 2], 'Red Channel')\n",
    "g_diff, g_mean = compare_channels(img1_rgb[:, :, 1], img2_rgb[:, :, 1], 'Green Channel')\n",
    "b_diff, b_mean = compare_channels(img1_rgb[:, :, 0], img2_rgb[:, :, 0], 'Blue Channel')\n",
    "\n",
    "\n",
    "# Comparing HSV channels\n",
    "h_diff, h_mean = compare_channels(img1_hsv[:, :, 0], img2_hsv[:, :, 0], 'Hue Channel')\n",
    "s_diff, s_mean = compare_channels(img1_hsv[:, :, 1], img2_hsv[:, :, 1], 'Saturation Channel')\n",
    "v_diff, v_mean = compare_channels(img1_hsv[:, :, 2], img2_hsv[:, :, 2], 'Brightness/Value Channel')\n",
    "\n",
    "\n",
    "# Comparing YUV channels\n",
    "y_diff, y_mean = compare_channels(img1_yuv[:, :, 0], img2_yuv[:, :, 0], 'Luminance (Y) Channel')\n",
    "u_diff, u_mean = compare_channels(img1_yuv[:, :, 1], img2_yuv[:, :, 1], 'Chrominance (U) Channel')\n",
    "v_diff_yuv, v_mean_yuv = compare_channels(img1_yuv[:, :, 2], img2_yuv[:, :, 2], 'Chrominance (V) Channel')"
   ]
  },
  {
   "cell_type": "code",
   "execution_count": 8,
   "metadata": {},
   "outputs": [
    {
     "name": "stdout",
     "output_type": "stream",
     "text": [
      "\n",
      "Mean Differences in RGB Channels:\n",
      "Red Channel: 37.42588929521276\n",
      "Green Channel: 33.92852771397485\n",
      "Blue Channel: 41.69930261726306\n",
      "\n",
      "Mean Differences in HSV Channels:\n",
      "Hue Channel: 26.882296451885882\n",
      "Saturation Channel: 40.65768858800774\n",
      "Value (Brightness) Channel: 46.743886000967116\n",
      "\n",
      "Mean Differences in YUV Channels:\n",
      "Luminance (Y) Channel: 33.375763872098645\n",
      "Chrominance (U) Channel: 13.145023875725338\n",
      "Chrominance (V) Channel: 15.184955270793036\n"
     ]
    }
   ],
   "source": [
    "print(\"\\nMean Differences in RGB Channels:\")\n",
    "print(f\"Red Channel: {r_mean}\")\n",
    "print(f\"Green Channel: {g_mean}\")\n",
    "print(f\"Blue Channel: {b_mean}\")\n",
    "\n",
    "print(\"\\nMean Differences in HSV Channels:\")\n",
    "print(f\"Hue Channel: {h_mean}\")\n",
    "print(f\"Saturation Channel: {s_mean}\")\n",
    "print(f\"Value (Brightness) Channel: {v_mean}\")\n",
    "\n",
    "print(\"\\nMean Differences in YUV Channels:\")\n",
    "print(f\"Luminance (Y) Channel: {y_mean}\")\n",
    "print(f\"Chrominance (U) Channel: {u_mean}\")\n",
    "print(f\"Chrominance (V) Channel: {v_mean_yuv}\")\n"
   ]
  },
  {
   "cell_type": "code",
   "execution_count": 15,
   "metadata": {},
   "outputs": [
    {
     "name": "stdout",
     "output_type": "stream",
     "text": [
      "\n",
      "The channel with the greatest mean difference is 'Brightness/Value Channel' with a value of 46.74.\n"
     ]
    }
   ],
   "source": [
    "# Find the channel with the maximum mean difference\n",
    "\n",
    "# Store mean differences in a dictionary\n",
    "mean_differences = {\n",
    "    'Red Channel': r_mean,\n",
    "    'Green Channel': g_mean,\n",
    "    'Blue Channel': b_mean,\n",
    "    'Hue Channel': h_mean,\n",
    "    'Saturation Channel': s_mean,\n",
    "    'Brightness/Value Channel': v_mean,\n",
    "    'Luminance (Y) Channel': y_mean,\n",
    "    'Chrominance (U) Channel': u_mean,\n",
    "    'Chrominance (V) Channel': v_mean_yuv\n",
    "}\n",
    "\n",
    "max_channel = max(mean_differences, key=mean_differences.get)\n",
    "max_value = mean_differences[max_channel]\n",
    "\n",
    "print(f\"\\nThe channel with the greatest mean difference is '{max_channel}' with a value of {max_value:.2f}.\")"
   ]
  },
  {
   "cell_type": "code",
   "execution_count": null,
   "metadata": {},
   "outputs": [],
   "source": []
  }
 ],
 "metadata": {
  "kernelspec": {
   "display_name": "Python 3",
   "language": "python",
   "name": "python3"
  },
  "language_info": {
   "codemirror_mode": {
    "name": "ipython",
    "version": 3
   },
   "file_extension": ".py",
   "mimetype": "text/x-python",
   "name": "python",
   "nbconvert_exporter": "python",
   "pygments_lexer": "ipython3",
   "version": "3.12.0"
  }
 },
 "nbformat": 4,
 "nbformat_minor": 2
}
